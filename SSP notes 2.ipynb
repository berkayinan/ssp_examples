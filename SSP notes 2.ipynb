{
 "cells": [
  {
   "cell_type": "markdown",
   "metadata": {},
   "source": [
    "SP 2\n",
    "\n",
    "Wiener filter problems:\n",
    "- Estimating PSD\n",
    "    - If we use periodogram for this:\n",
    "\t\tTricky thing with periodogram: \n",
    "        - It has constant variance. Usually we don’t care if we want to detect sinusoids. But numerically this variance causes problems.\n",
    "- We have to estimate the variance of noise:\n",
    "    - ?\n",
    "    - In the its a low pass filter, you cannot get rid of effect of noise in the low frequency (singal's frequencies)\n"
   ]
  },
  {
   "cell_type": "code",
   "execution_count": null,
   "metadata": {},
   "outputs": [],
   "source": []
  }
 ],
 "metadata": {
  "kernelspec": {
   "display_name": "Python 3",
   "language": "python",
   "name": "python3"
  },
  "language_info": {
   "codemirror_mode": {
    "name": "ipython",
    "version": 3
   },
   "file_extension": ".py",
   "mimetype": "text/x-python",
   "name": "python",
   "nbconvert_exporter": "python",
   "pygments_lexer": "ipython3",
   "version": "3.6.4"
  }
 },
 "nbformat": 4,
 "nbformat_minor": 2
}
